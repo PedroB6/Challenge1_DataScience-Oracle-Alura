{
  "nbformat": 4,
  "nbformat_minor": 0,
  "metadata": {
    "colab": {
      "provenance": [],
      "include_colab_link": true
    },
    "kernelspec": {
      "name": "python3",
      "display_name": "Python 3"
    },
    "language_info": {
      "name": "python"
    }
  },
  "cells": [
    {
      "cell_type": "markdown",
      "metadata": {
        "id": "view-in-github",
        "colab_type": "text"
      },
      "source": [
        "<a href=\"https://colab.research.google.com/github/PedroB6/Challenge1_DataScience-Oracle-Alura/blob/main/AluraStoreLatam_PedroBaca.ipynb\" target=\"_parent\"><img src=\"https://colab.research.google.com/assets/colab-badge.svg\" alt=\"Open In Colab\"/></a>"
      ]
    },
    {
      "cell_type": "markdown",
      "source": [
        "### 0. Importación de datos\n",
        "\n"
      ],
      "metadata": {
        "id": "RhEdWd9YUR6H"
      }
    },
    {
      "cell_type": "code",
      "execution_count": 1,
      "metadata": {
        "colab": {
          "base_uri": "https://localhost:8080/",
          "height": 206
        },
        "id": "T3EvaeQ_INIL",
        "outputId": "8177f326-8a80-47ec-ca18-80a92131b3c5"
      },
      "outputs": [
        {
          "output_type": "execute_result",
          "data": {
            "text/plain": [
              "            Producto Categoría del Producto    Precio  Costo de envío  \\\n",
              "0  Asistente virtual           Electrónicos  164300.0          6900.0   \n",
              "1    Mesa de comedor                Muebles  192300.0          8400.0   \n",
              "2      Juego de mesa               Juguetes  209600.0         15900.0   \n",
              "3         Microondas      Electrodomésticos  757500.0         41000.0   \n",
              "4   Silla de oficina                Muebles  335200.0         20200.0   \n",
              "\n",
              "  Fecha de Compra         Vendedor Lugar de Compra  Calificación  \\\n",
              "0      16/01/2021      Pedro Gomez          Bogotá             4   \n",
              "1      18/05/2022  Beatriz Morales        Medellín             1   \n",
              "2      15/03/2021   Juan Fernandez       Cartagena             1   \n",
              "3      03/05/2022   Juan Fernandez            Cali             4   \n",
              "4      07/11/2020    Maria Alfonso        Medellín             5   \n",
              "\n",
              "       Método de pago  Cantidad de cuotas       lat       lon  \n",
              "0  Tarjeta de crédito                   8   4.60971 -74.08175  \n",
              "1  Tarjeta de crédito                   4   6.25184 -75.56359  \n",
              "2  Tarjeta de crédito                   1  10.39972 -75.51444  \n",
              "3               Nequi                   1   3.43722 -76.52250  \n",
              "4               Nequi                   1   6.25184 -75.56359  "
            ],
            "text/html": [
              "\n",
              "  <div id=\"df-df9b4619-5bfe-4323-ac83-8e01ac2049f9\" class=\"colab-df-container\">\n",
              "    <div>\n",
              "<style scoped>\n",
              "    .dataframe tbody tr th:only-of-type {\n",
              "        vertical-align: middle;\n",
              "    }\n",
              "\n",
              "    .dataframe tbody tr th {\n",
              "        vertical-align: top;\n",
              "    }\n",
              "\n",
              "    .dataframe thead th {\n",
              "        text-align: right;\n",
              "    }\n",
              "</style>\n",
              "<table border=\"1\" class=\"dataframe\">\n",
              "  <thead>\n",
              "    <tr style=\"text-align: right;\">\n",
              "      <th></th>\n",
              "      <th>Producto</th>\n",
              "      <th>Categoría del Producto</th>\n",
              "      <th>Precio</th>\n",
              "      <th>Costo de envío</th>\n",
              "      <th>Fecha de Compra</th>\n",
              "      <th>Vendedor</th>\n",
              "      <th>Lugar de Compra</th>\n",
              "      <th>Calificación</th>\n",
              "      <th>Método de pago</th>\n",
              "      <th>Cantidad de cuotas</th>\n",
              "      <th>lat</th>\n",
              "      <th>lon</th>\n",
              "    </tr>\n",
              "  </thead>\n",
              "  <tbody>\n",
              "    <tr>\n",
              "      <th>0</th>\n",
              "      <td>Asistente virtual</td>\n",
              "      <td>Electrónicos</td>\n",
              "      <td>164300.0</td>\n",
              "      <td>6900.0</td>\n",
              "      <td>16/01/2021</td>\n",
              "      <td>Pedro Gomez</td>\n",
              "      <td>Bogotá</td>\n",
              "      <td>4</td>\n",
              "      <td>Tarjeta de crédito</td>\n",
              "      <td>8</td>\n",
              "      <td>4.60971</td>\n",
              "      <td>-74.08175</td>\n",
              "    </tr>\n",
              "    <tr>\n",
              "      <th>1</th>\n",
              "      <td>Mesa de comedor</td>\n",
              "      <td>Muebles</td>\n",
              "      <td>192300.0</td>\n",
              "      <td>8400.0</td>\n",
              "      <td>18/05/2022</td>\n",
              "      <td>Beatriz Morales</td>\n",
              "      <td>Medellín</td>\n",
              "      <td>1</td>\n",
              "      <td>Tarjeta de crédito</td>\n",
              "      <td>4</td>\n",
              "      <td>6.25184</td>\n",
              "      <td>-75.56359</td>\n",
              "    </tr>\n",
              "    <tr>\n",
              "      <th>2</th>\n",
              "      <td>Juego de mesa</td>\n",
              "      <td>Juguetes</td>\n",
              "      <td>209600.0</td>\n",
              "      <td>15900.0</td>\n",
              "      <td>15/03/2021</td>\n",
              "      <td>Juan Fernandez</td>\n",
              "      <td>Cartagena</td>\n",
              "      <td>1</td>\n",
              "      <td>Tarjeta de crédito</td>\n",
              "      <td>1</td>\n",
              "      <td>10.39972</td>\n",
              "      <td>-75.51444</td>\n",
              "    </tr>\n",
              "    <tr>\n",
              "      <th>3</th>\n",
              "      <td>Microondas</td>\n",
              "      <td>Electrodomésticos</td>\n",
              "      <td>757500.0</td>\n",
              "      <td>41000.0</td>\n",
              "      <td>03/05/2022</td>\n",
              "      <td>Juan Fernandez</td>\n",
              "      <td>Cali</td>\n",
              "      <td>4</td>\n",
              "      <td>Nequi</td>\n",
              "      <td>1</td>\n",
              "      <td>3.43722</td>\n",
              "      <td>-76.52250</td>\n",
              "    </tr>\n",
              "    <tr>\n",
              "      <th>4</th>\n",
              "      <td>Silla de oficina</td>\n",
              "      <td>Muebles</td>\n",
              "      <td>335200.0</td>\n",
              "      <td>20200.0</td>\n",
              "      <td>07/11/2020</td>\n",
              "      <td>Maria Alfonso</td>\n",
              "      <td>Medellín</td>\n",
              "      <td>5</td>\n",
              "      <td>Nequi</td>\n",
              "      <td>1</td>\n",
              "      <td>6.25184</td>\n",
              "      <td>-75.56359</td>\n",
              "    </tr>\n",
              "  </tbody>\n",
              "</table>\n",
              "</div>\n",
              "    <div class=\"colab-df-buttons\">\n",
              "\n",
              "  <div class=\"colab-df-container\">\n",
              "    <button class=\"colab-df-convert\" onclick=\"convertToInteractive('df-df9b4619-5bfe-4323-ac83-8e01ac2049f9')\"\n",
              "            title=\"Convert this dataframe to an interactive table.\"\n",
              "            style=\"display:none;\">\n",
              "\n",
              "  <svg xmlns=\"http://www.w3.org/2000/svg\" height=\"24px\" viewBox=\"0 -960 960 960\">\n",
              "    <path d=\"M120-120v-720h720v720H120Zm60-500h600v-160H180v160Zm220 220h160v-160H400v160Zm0 220h160v-160H400v160ZM180-400h160v-160H180v160Zm440 0h160v-160H620v160ZM180-180h160v-160H180v160Zm440 0h160v-160H620v160Z\"/>\n",
              "  </svg>\n",
              "    </button>\n",
              "\n",
              "  <style>\n",
              "    .colab-df-container {\n",
              "      display:flex;\n",
              "      gap: 12px;\n",
              "    }\n",
              "\n",
              "    .colab-df-convert {\n",
              "      background-color: #E8F0FE;\n",
              "      border: none;\n",
              "      border-radius: 50%;\n",
              "      cursor: pointer;\n",
              "      display: none;\n",
              "      fill: #1967D2;\n",
              "      height: 32px;\n",
              "      padding: 0 0 0 0;\n",
              "      width: 32px;\n",
              "    }\n",
              "\n",
              "    .colab-df-convert:hover {\n",
              "      background-color: #E2EBFA;\n",
              "      box-shadow: 0px 1px 2px rgba(60, 64, 67, 0.3), 0px 1px 3px 1px rgba(60, 64, 67, 0.15);\n",
              "      fill: #174EA6;\n",
              "    }\n",
              "\n",
              "    .colab-df-buttons div {\n",
              "      margin-bottom: 4px;\n",
              "    }\n",
              "\n",
              "    [theme=dark] .colab-df-convert {\n",
              "      background-color: #3B4455;\n",
              "      fill: #D2E3FC;\n",
              "    }\n",
              "\n",
              "    [theme=dark] .colab-df-convert:hover {\n",
              "      background-color: #434B5C;\n",
              "      box-shadow: 0px 1px 3px 1px rgba(0, 0, 0, 0.15);\n",
              "      filter: drop-shadow(0px 1px 2px rgba(0, 0, 0, 0.3));\n",
              "      fill: #FFFFFF;\n",
              "    }\n",
              "  </style>\n",
              "\n",
              "    <script>\n",
              "      const buttonEl =\n",
              "        document.querySelector('#df-df9b4619-5bfe-4323-ac83-8e01ac2049f9 button.colab-df-convert');\n",
              "      buttonEl.style.display =\n",
              "        google.colab.kernel.accessAllowed ? 'block' : 'none';\n",
              "\n",
              "      async function convertToInteractive(key) {\n",
              "        const element = document.querySelector('#df-df9b4619-5bfe-4323-ac83-8e01ac2049f9');\n",
              "        const dataTable =\n",
              "          await google.colab.kernel.invokeFunction('convertToInteractive',\n",
              "                                                    [key], {});\n",
              "        if (!dataTable) return;\n",
              "\n",
              "        const docLinkHtml = 'Like what you see? Visit the ' +\n",
              "          '<a target=\"_blank\" href=https://colab.research.google.com/notebooks/data_table.ipynb>data table notebook</a>'\n",
              "          + ' to learn more about interactive tables.';\n",
              "        element.innerHTML = '';\n",
              "        dataTable['output_type'] = 'display_data';\n",
              "        await google.colab.output.renderOutput(dataTable, element);\n",
              "        const docLink = document.createElement('div');\n",
              "        docLink.innerHTML = docLinkHtml;\n",
              "        element.appendChild(docLink);\n",
              "      }\n",
              "    </script>\n",
              "  </div>\n",
              "\n",
              "\n",
              "<div id=\"df-1457415c-026c-4561-b6ed-41cdf653e36c\">\n",
              "  <button class=\"colab-df-quickchart\" onclick=\"quickchart('df-1457415c-026c-4561-b6ed-41cdf653e36c')\"\n",
              "            title=\"Suggest charts\"\n",
              "            style=\"display:none;\">\n",
              "\n",
              "<svg xmlns=\"http://www.w3.org/2000/svg\" height=\"24px\"viewBox=\"0 0 24 24\"\n",
              "     width=\"24px\">\n",
              "    <g>\n",
              "        <path d=\"M19 3H5c-1.1 0-2 .9-2 2v14c0 1.1.9 2 2 2h14c1.1 0 2-.9 2-2V5c0-1.1-.9-2-2-2zM9 17H7v-7h2v7zm4 0h-2V7h2v10zm4 0h-2v-4h2v4z\"/>\n",
              "    </g>\n",
              "</svg>\n",
              "  </button>\n",
              "\n",
              "<style>\n",
              "  .colab-df-quickchart {\n",
              "      --bg-color: #E8F0FE;\n",
              "      --fill-color: #1967D2;\n",
              "      --hover-bg-color: #E2EBFA;\n",
              "      --hover-fill-color: #174EA6;\n",
              "      --disabled-fill-color: #AAA;\n",
              "      --disabled-bg-color: #DDD;\n",
              "  }\n",
              "\n",
              "  [theme=dark] .colab-df-quickchart {\n",
              "      --bg-color: #3B4455;\n",
              "      --fill-color: #D2E3FC;\n",
              "      --hover-bg-color: #434B5C;\n",
              "      --hover-fill-color: #FFFFFF;\n",
              "      --disabled-bg-color: #3B4455;\n",
              "      --disabled-fill-color: #666;\n",
              "  }\n",
              "\n",
              "  .colab-df-quickchart {\n",
              "    background-color: var(--bg-color);\n",
              "    border: none;\n",
              "    border-radius: 50%;\n",
              "    cursor: pointer;\n",
              "    display: none;\n",
              "    fill: var(--fill-color);\n",
              "    height: 32px;\n",
              "    padding: 0;\n",
              "    width: 32px;\n",
              "  }\n",
              "\n",
              "  .colab-df-quickchart:hover {\n",
              "    background-color: var(--hover-bg-color);\n",
              "    box-shadow: 0 1px 2px rgba(60, 64, 67, 0.3), 0 1px 3px 1px rgba(60, 64, 67, 0.15);\n",
              "    fill: var(--button-hover-fill-color);\n",
              "  }\n",
              "\n",
              "  .colab-df-quickchart-complete:disabled,\n",
              "  .colab-df-quickchart-complete:disabled:hover {\n",
              "    background-color: var(--disabled-bg-color);\n",
              "    fill: var(--disabled-fill-color);\n",
              "    box-shadow: none;\n",
              "  }\n",
              "\n",
              "  .colab-df-spinner {\n",
              "    border: 2px solid var(--fill-color);\n",
              "    border-color: transparent;\n",
              "    border-bottom-color: var(--fill-color);\n",
              "    animation:\n",
              "      spin 1s steps(1) infinite;\n",
              "  }\n",
              "\n",
              "  @keyframes spin {\n",
              "    0% {\n",
              "      border-color: transparent;\n",
              "      border-bottom-color: var(--fill-color);\n",
              "      border-left-color: var(--fill-color);\n",
              "    }\n",
              "    20% {\n",
              "      border-color: transparent;\n",
              "      border-left-color: var(--fill-color);\n",
              "      border-top-color: var(--fill-color);\n",
              "    }\n",
              "    30% {\n",
              "      border-color: transparent;\n",
              "      border-left-color: var(--fill-color);\n",
              "      border-top-color: var(--fill-color);\n",
              "      border-right-color: var(--fill-color);\n",
              "    }\n",
              "    40% {\n",
              "      border-color: transparent;\n",
              "      border-right-color: var(--fill-color);\n",
              "      border-top-color: var(--fill-color);\n",
              "    }\n",
              "    60% {\n",
              "      border-color: transparent;\n",
              "      border-right-color: var(--fill-color);\n",
              "    }\n",
              "    80% {\n",
              "      border-color: transparent;\n",
              "      border-right-color: var(--fill-color);\n",
              "      border-bottom-color: var(--fill-color);\n",
              "    }\n",
              "    90% {\n",
              "      border-color: transparent;\n",
              "      border-bottom-color: var(--fill-color);\n",
              "    }\n",
              "  }\n",
              "</style>\n",
              "\n",
              "  <script>\n",
              "    async function quickchart(key) {\n",
              "      const quickchartButtonEl =\n",
              "        document.querySelector('#' + key + ' button');\n",
              "      quickchartButtonEl.disabled = true;  // To prevent multiple clicks.\n",
              "      quickchartButtonEl.classList.add('colab-df-spinner');\n",
              "      try {\n",
              "        const charts = await google.colab.kernel.invokeFunction(\n",
              "            'suggestCharts', [key], {});\n",
              "      } catch (error) {\n",
              "        console.error('Error during call to suggestCharts:', error);\n",
              "      }\n",
              "      quickchartButtonEl.classList.remove('colab-df-spinner');\n",
              "      quickchartButtonEl.classList.add('colab-df-quickchart-complete');\n",
              "    }\n",
              "    (() => {\n",
              "      let quickchartButtonEl =\n",
              "        document.querySelector('#df-1457415c-026c-4561-b6ed-41cdf653e36c button');\n",
              "      quickchartButtonEl.style.display =\n",
              "        google.colab.kernel.accessAllowed ? 'block' : 'none';\n",
              "    })();\n",
              "  </script>\n",
              "</div>\n",
              "\n",
              "    </div>\n",
              "  </div>\n"
            ],
            "application/vnd.google.colaboratory.intrinsic+json": {
              "type": "dataframe",
              "variable_name": "tienda",
              "summary": "{\n  \"name\": \"tienda\",\n  \"rows\": 2359,\n  \"fields\": [\n    {\n      \"column\": \"Producto\",\n      \"properties\": {\n        \"dtype\": \"category\",\n        \"num_unique_values\": 51,\n        \"samples\": [\n          \"Guitarra ac\\u00fastica\",\n          \"Bal\\u00f3n de baloncesto\",\n          \"Smartwatch\"\n        ],\n        \"semantic_type\": \"\",\n        \"description\": \"\"\n      }\n    },\n    {\n      \"column\": \"Categor\\u00eda del Producto\",\n      \"properties\": {\n        \"dtype\": \"category\",\n        \"num_unique_values\": 8,\n        \"samples\": [\n          \"Muebles\",\n          \"Deportes y diversi\\u00f3n\",\n          \"Electr\\u00f3nicos\"\n        ],\n        \"semantic_type\": \"\",\n        \"description\": \"\"\n      }\n    },\n    {\n      \"column\": \"Precio\",\n      \"properties\": {\n        \"dtype\": \"number\",\n        \"std\": 614686.7653873172,\n        \"min\": 7600.0,\n        \"max\": 2977000.0,\n        \"num_unique_values\": 1937,\n        \"samples\": [\n          2499400.0,\n          14800.0,\n          80500.0\n        ],\n        \"semantic_type\": \"\",\n        \"description\": \"\"\n      }\n    },\n    {\n      \"column\": \"Costo de env\\u00edo\",\n      \"properties\": {\n        \"dtype\": \"number\",\n        \"std\": 32860.0017825605,\n        \"min\": 0.0,\n        \"max\": 160800.0,\n        \"num_unique_values\": 753,\n        \"samples\": [\n          117800.0,\n          54700.0,\n          45600.0\n        ],\n        \"semantic_type\": \"\",\n        \"description\": \"\"\n      }\n    },\n    {\n      \"column\": \"Fecha de Compra\",\n      \"properties\": {\n        \"dtype\": \"object\",\n        \"num_unique_values\": 1018,\n        \"samples\": [\n          \"15/09/2022\",\n          \"03/06/2020\",\n          \"06/11/2021\"\n        ],\n        \"semantic_type\": \"\",\n        \"description\": \"\"\n      }\n    },\n    {\n      \"column\": \"Vendedor\",\n      \"properties\": {\n        \"dtype\": \"category\",\n        \"num_unique_values\": 14,\n        \"samples\": [\n          \"Juliana Costa\",\n          \"Mariana Herrera\",\n          \"Pedro Gomez\"\n        ],\n        \"semantic_type\": \"\",\n        \"description\": \"\"\n      }\n    },\n    {\n      \"column\": \"Lugar de Compra\",\n      \"properties\": {\n        \"dtype\": \"category\",\n        \"num_unique_values\": 19,\n        \"samples\": [\n          \"Bogot\\u00e1\",\n          \"Pereira\",\n          \"Neiva\"\n        ],\n        \"semantic_type\": \"\",\n        \"description\": \"\"\n      }\n    },\n    {\n      \"column\": \"Calificaci\\u00f3n\",\n      \"properties\": {\n        \"dtype\": \"number\",\n        \"std\": 1,\n        \"min\": 1,\n        \"max\": 5,\n        \"num_unique_values\": 5,\n        \"samples\": [\n          1,\n          2,\n          5\n        ],\n        \"semantic_type\": \"\",\n        \"description\": \"\"\n      }\n    },\n    {\n      \"column\": \"M\\u00e9todo de pago\",\n      \"properties\": {\n        \"dtype\": \"category\",\n        \"num_unique_values\": 4,\n        \"samples\": [\n          \"Nequi\",\n          \"Tarjeta de d\\u00e9bito\",\n          \"Tarjeta de cr\\u00e9dito\"\n        ],\n        \"semantic_type\": \"\",\n        \"description\": \"\"\n      }\n    },\n    {\n      \"column\": \"Cantidad de cuotas\",\n      \"properties\": {\n        \"dtype\": \"number\",\n        \"std\": 2,\n        \"min\": 1,\n        \"max\": 24,\n        \"num_unique_values\": 15,\n        \"samples\": [\n          7,\n          14,\n          8\n        ],\n        \"semantic_type\": \"\",\n        \"description\": \"\"\n      }\n    },\n    {\n      \"column\": \"lat\",\n      \"properties\": {\n        \"dtype\": \"number\",\n        \"std\": 2.2874452492678627,\n        \"min\": -4.21528,\n        \"max\": 11.54444,\n        \"num_unique_values\": 19,\n        \"samples\": [\n          4.60971,\n          4.81333,\n          2.9273\n        ],\n        \"semantic_type\": \"\",\n        \"description\": \"\"\n      }\n    },\n    {\n      \"column\": \"lon\",\n      \"properties\": {\n        \"dtype\": \"number\",\n        \"std\": 1.2178272727088486,\n        \"min\": -77.28111,\n        \"max\": -67.9239,\n        \"num_unique_values\": 19,\n        \"samples\": [\n          -74.08175,\n          -75.69611,\n          -75.28189\n        ],\n        \"semantic_type\": \"\",\n        \"description\": \"\"\n      }\n    }\n  ]\n}"
            }
          },
          "metadata": {},
          "execution_count": 1
        }
      ],
      "source": [
        "import pandas as pd\n",
        "\n",
        "url = \"https://raw.githubusercontent.com/alura-es-cursos/challenge1-data-science-latam/refs/heads/main/base-de-datos-challenge1-latam/tienda_1%20.csv\"\n",
        "url2 = \"https://raw.githubusercontent.com/alura-es-cursos/challenge1-data-science-latam/refs/heads/main/base-de-datos-challenge1-latam/tienda_2.csv\"\n",
        "url3 = \"https://raw.githubusercontent.com/alura-es-cursos/challenge1-data-science-latam/refs/heads/main/base-de-datos-challenge1-latam/tienda_3.csv\"\n",
        "url4 = \"https://raw.githubusercontent.com/alura-es-cursos/challenge1-data-science-latam/refs/heads/main/base-de-datos-challenge1-latam/tienda_4.csv\"\n",
        "\n",
        "tienda = pd.read_csv(url)\n",
        "tienda2 = pd.read_csv(url2)\n",
        "tienda3 = pd.read_csv(url3)\n",
        "tienda4 = pd.read_csv(url4)\n",
        "\n",
        "tienda.head()"
      ]
    },
    {
      "cell_type": "markdown",
      "source": [
        "El conjunto de datos incluye la siguiente información:\n",
        "\n",
        "1. Producto y Categoría: Artículos vendidos y sus calificaciones.\n",
        "\n",
        "2. Precio y Envío: Valores de venta y costos asociados.\n",
        "\n",
        "3. Fecha y ubicación de compra: Información temporal y geográfica.\n",
        "\n",
        "4. Evaluación de compra: Comentarios de clientes.\n",
        "\n",
        "5. Tipo de Pago y Cuotas: Métodos utilizados por los clientes.\n",
        "\n",
        "6. Coordenadas Geográficas: Ubicación de las transacciones."
      ],
      "metadata": {
        "id": "67cpnVKItTxY"
      }
    },
    {
      "cell_type": "markdown",
      "source": [
        "#1. Análisis de facturación\n",
        "\n"
      ],
      "metadata": {
        "id": "X62IW3KFUIYm"
      }
    },
    {
      "cell_type": "code",
      "source": [
        "t1 = sum(tienda['Precio'])\n",
        "t2 = sum(tienda2['Precio'])\n",
        "t3 = sum(tienda3['Precio'])\n",
        "t4 = sum(tienda4['Precio'])\n",
        "\n",
        "print('El ingreso total por cada tienda es el siguiente:')\n",
        "print(f'La tienda 1 tiene {t1}')\n",
        "print(f'La tienda 2 tiene {t2}')\n",
        "print(f'La tienda 3 tiene {t3}')\n",
        "print(f'La tienda 4 tiene {t4}\\n')\n",
        "\n",
        "dic_ingresos = {'Tienda 1':t1,\n",
        "               'Tienda 2':t2,\n",
        "               'Tienda 3':t3,\n",
        "               'Tienda 4':t4}\n",
        "\n",
        "j = 0\n",
        "for i in dic_ingresos.values():\n",
        "  if i == max(dic_ingresos.values()):\n",
        "    maxtienda = list(dic_ingresos.keys())[j]\n",
        "  elif i == min(dic_ingresos.values()):\n",
        "    mintienda = list(dic_ingresos.keys())[j]\n",
        "  j+=1\n",
        "\n",
        "print('Máximo y mínimo:')\n",
        "print(f'La tienda que tiene mayores ingresos es {maxtienda}')\n",
        "print(f'La tienda que tiene menores ingresos es {mintienda}')\n"
      ],
      "metadata": {
        "id": "xykobSftV64I",
        "colab": {
          "base_uri": "https://localhost:8080/"
        },
        "outputId": "10092bb5-6753-430e-c55c-ae84b35db743"
      },
      "execution_count": 58,
      "outputs": [
        {
          "output_type": "stream",
          "name": "stdout",
          "text": [
            "El ingreso total por cada tienda es el siguiente:\n",
            "La tienda 1 tiene 1150880400.0\n",
            "La tienda 2 tiene 1116343500.0\n",
            "La tienda 3 tiene 1098019600.0\n",
            "La tienda 4 tiene 1038375700.0\n",
            "\n",
            "Máximo y mínimo:\n",
            "La tienda que tiene mayores ingresos es Tienda 1\n",
            "La tienda que tiene menores ingresos es Tienda 4\n"
          ]
        }
      ]
    },
    {
      "cell_type": "markdown",
      "source": [
        "# 2. Ventas por categoría"
      ],
      "metadata": {
        "id": "2V_vcAPzWZmR"
      }
    },
    {
      "cell_type": "code",
      "source": [
        "\n",
        "'''\n",
        "Forma extensa\n",
        "lista_de_categoriast = list(set(tienda['Categoría del Producto'].tolist()))\n",
        "lista_de_categoriasv = []\n",
        "c=0\n",
        "\n",
        "for j in lista_de_categoriast:\n",
        "  for i in tienda['Categoría del Producto']:\n",
        "    if j == i:\n",
        "      c+=1\n",
        "  lista_de_categoriasv.append(c)\n",
        "  c=0\n",
        "\n",
        "print(lista_de_categoriast)\n",
        "print(lista_de_categoriasv)\n",
        "\n",
        "dic = {}\n",
        "for i,j in zip(lista_de_categoriast,lista_de_categoriasv):\n",
        "  dic[i] = j\n",
        "\n",
        "dic_ordenado = dict(sorted(dic.items(), key=lambda item: item[1], reverse=True))\n",
        "print(dic_ordenado)\n",
        "'''\n",
        "\n",
        "#Forma corta\n",
        "print('Las ventas por categoría son las siguientes por cada tienda: \\n')\n",
        "\n",
        "print('Tienda 1')\n",
        "t1_categorias = tienda['Categoría del Producto'].value_counts()\n",
        "print(t1_categorias,'\\n')\n",
        "\n",
        "print('Tienda 2')\n",
        "t2_categorias = tienda2['Categoría del Producto'].value_counts()\n",
        "print(t2_categorias,'\\n')\n",
        "\n",
        "print('Tienda 3')\n",
        "t3_categorias = tienda3['Categoría del Producto'].value_counts()\n",
        "print(t3_categorias,'\\n')\n",
        "\n",
        "print('Tienda 4')\n",
        "t4_categorias = tienda4['Categoría del Producto'].value_counts()\n",
        "print(t4_categorias,'\\n')"
      ],
      "metadata": {
        "id": "A34YupIuYhfF",
        "colab": {
          "base_uri": "https://localhost:8080/"
        },
        "outputId": "e1f6f695-731e-4186-c761-ddaf06361e28"
      },
      "execution_count": 33,
      "outputs": [
        {
          "output_type": "stream",
          "name": "stdout",
          "text": [
            "Las ventas por categoría son las siguientes por cada tienda: \n",
            "\n",
            "Tienda 1\n",
            "Categoría del Producto\n",
            "Muebles                    465\n",
            "Electrónicos               448\n",
            "Juguetes                   324\n",
            "Electrodomésticos          312\n",
            "Deportes y diversión       284\n",
            "Instrumentos musicales     182\n",
            "Libros                     173\n",
            "Artículos para el hogar    171\n",
            "Name: count, dtype: int64 \n",
            "\n",
            "Tienda 2\n",
            "Categoría del Producto\n",
            "Muebles                    442\n",
            "Electrónicos               422\n",
            "Juguetes                   313\n",
            "Electrodomésticos          305\n",
            "Deportes y diversión       275\n",
            "Instrumentos musicales     224\n",
            "Libros                     197\n",
            "Artículos para el hogar    181\n",
            "Name: count, dtype: int64 \n",
            "\n",
            "Tienda 3\n",
            "Categoría del Producto\n",
            "Muebles                    499\n",
            "Electrónicos               451\n",
            "Juguetes                   315\n",
            "Electrodomésticos          278\n",
            "Deportes y diversión       277\n",
            "Libros                     185\n",
            "Instrumentos musicales     177\n",
            "Artículos para el hogar    177\n",
            "Name: count, dtype: int64 \n",
            "\n",
            "Tienda 4\n",
            "Categoría del Producto\n",
            "Muebles                    480\n",
            "Electrónicos               451\n",
            "Juguetes                   338\n",
            "Deportes y diversión       277\n",
            "Electrodomésticos          254\n",
            "Artículos para el hogar    201\n",
            "Libros                     187\n",
            "Instrumentos musicales     170\n",
            "Name: count, dtype: int64 \n",
            "\n"
          ]
        }
      ]
    },
    {
      "cell_type": "markdown",
      "source": [
        "# 3. Calificación promedio de la tienda\n"
      ],
      "metadata": {
        "id": "Rq6tU_xSY3jk"
      }
    },
    {
      "cell_type": "code",
      "source": [
        "print('La calificación promedio de las tiendas son las siguientes:')\n",
        "\n",
        "p1 = tienda['Calificación'].mean()\n",
        "p2 = tienda2['Calificación'].mean()\n",
        "p3 = tienda3['Calificación'].mean()\n",
        "p4 = tienda4['Calificación'].mean()\n",
        "\n",
        "dicc_calificacionprom = {'Tienda 1':p1,\n",
        "               'Tienda 2':p2,\n",
        "               'Tienda 3':p3,\n",
        "               'Tienda 4':p4}\n",
        "\n",
        "for i,j in dicc_calificacionprom.items():\n",
        "  print(i,\":\",round(j,2))"
      ],
      "metadata": {
        "id": "bh3jjjJwY5MU",
        "colab": {
          "base_uri": "https://localhost:8080/"
        },
        "outputId": "b612689c-dab5-4ddc-dd03-536fd15d6952"
      },
      "execution_count": 101,
      "outputs": [
        {
          "output_type": "stream",
          "name": "stdout",
          "text": [
            "La calificación promedio de las tiendas son las siguientes:\n",
            "Tienda 1: 3.98\n",
            "Tienda 2: 4.04\n",
            "Tienda 3: 4.05\n",
            "Tienda 4: 4.0\n",
            "Tienda 1 : 3.98\n",
            "Tienda 2 : 4.04\n",
            "Tienda 3 : 4.05\n",
            "Tienda 4 : 4.0\n"
          ]
        }
      ]
    },
    {
      "cell_type": "markdown",
      "source": [
        "# 4. Productos más y menos vendidos"
      ],
      "metadata": {
        "id": "DmNp1KPBZCm-"
      }
    },
    {
      "cell_type": "code",
      "source": [
        "print('Los 5 productos más y menos vendidos son: \\n')\n",
        "\n",
        "print('Tienda 1')\n",
        "t1_productos = pd.concat([tienda['Producto'].value_counts().head(),tienda['Producto'].value_counts().tail()])\n",
        "print(t1_productos,'\\n')\n",
        "\n",
        "print('Tienda 2')\n",
        "t2_productos = pd.concat([tienda2['Producto'].value_counts().head(),tienda2['Producto'].value_counts().tail()])\n",
        "print(t2_productos,'\\n')\n",
        "\n",
        "print('Tienda 3')\n",
        "t3_productos = pd.concat([tienda3['Producto'].value_counts().head(),tienda3['Producto'].value_counts().tail()])\n",
        "print(t3_productos,'\\n')\n",
        "\n",
        "print('Tienda 4')\n",
        "t4_productos = pd.concat([tienda4['Producto'].value_counts().head(),tienda4['Producto'].value_counts().tail()])\n",
        "print(t4_productos,'\\n')"
      ],
      "metadata": {
        "id": "qoyjqijQZHfF",
        "colab": {
          "base_uri": "https://localhost:8080/"
        },
        "outputId": "571039c1-5991-47f3-dc0a-556e155086ea"
      },
      "execution_count": 51,
      "outputs": [
        {
          "output_type": "stream",
          "name": "stdout",
          "text": [
            "Los 5 productos más y menos vendidos son: \n",
            "\n",
            "Tienda 1\n",
            "Producto\n",
            "Microondas                     60\n",
            "TV LED UHD 4K                  60\n",
            "Armario                        60\n",
            "Secadora de ropa               58\n",
            "Mesa de noche                  56\n",
            "Ciencia de datos con Python    39\n",
            "Pandereta                      36\n",
            "Olla de presión                35\n",
            "Auriculares con micrófono      33\n",
            "Celular ABXY                   33\n",
            "Name: count, dtype: int64 \n",
            "\n",
            "Tienda 2\n",
            "Producto\n",
            "Iniciando en programación    65\n",
            "Microondas                   62\n",
            "Batería                      61\n",
            "Guitarra acústica            58\n",
            "Pandereta                    58\n",
            "Auriculares                  37\n",
            "Sillón                       35\n",
            "Mesa de comedor              34\n",
            "Impresora                    34\n",
            "Juego de mesa                32\n",
            "Name: count, dtype: int64 \n",
            "\n",
            "Tienda 3\n",
            "Producto\n",
            "Kit de bancas              57\n",
            "Mesa de comedor            56\n",
            "Cama king                  56\n",
            "Set de ollas               55\n",
            "Mesa de noche              55\n",
            "Guitarra eléctrica         38\n",
            "Set de vasos               36\n",
            "Mochila                    36\n",
            "Microondas                 36\n",
            "Bloques de construcción    35\n",
            "Name: count, dtype: int64 \n",
            "\n",
            "Tienda 4\n",
            "Producto\n",
            "Cama box                       62\n",
            "Cubertería                     59\n",
            "Dashboards con Power BI        56\n",
            "Cama king                      56\n",
            "Carrito de control remoto      55\n",
            "Refrigerador                   38\n",
            "Ciencia de datos con Python    38\n",
            "Guitarra acústica              37\n",
            "Armario                        34\n",
            "Guitarra eléctrica             33\n",
            "Name: count, dtype: int64 \n",
            "\n"
          ]
        }
      ]
    },
    {
      "cell_type": "markdown",
      "source": [
        "# 5. Envío promedio por tienda"
      ],
      "metadata": {
        "id": "Fl0cGi3bZKqU"
      }
    },
    {
      "cell_type": "code",
      "source": [
        "print('El costo del envío promedio por cada tienda es:')\n",
        "\n",
        "ep1 = tienda['Costo de envío'].mean()\n",
        "ep2 = tienda2['Costo de envío'].mean()\n",
        "ep3 = tienda3['Costo de envío'].mean()\n",
        "ep4 = tienda4['Costo de envío'].mean()\n",
        "\n",
        "dicc_costoenvio = {'Tienda 1':ep1,\n",
        "               'Tienda 2':ep2,\n",
        "               'Tienda 3':ep3,\n",
        "               'Tienda 4':ep4}\n",
        "\n",
        "for i,j in dicc_costoenvio.items():\n",
        "  print(i,\":\",round(j,2))"
      ],
      "metadata": {
        "id": "S2JeaCykZNy9",
        "colab": {
          "base_uri": "https://localhost:8080/"
        },
        "outputId": "2c66fa34-25e7-461d-9341-8d1c7ee21b07"
      },
      "execution_count": 100,
      "outputs": [
        {
          "output_type": "stream",
          "name": "stdout",
          "text": [
            "El costo del envío promedio por cada tienda es:\n",
            "Tienda 1: 26018.61\n",
            "Tienda 2: 25216.24\n",
            "Tienda 3: 24805.68\n",
            "Tienda 4: 23459.46\n",
            "Tienda 1 : 26018.61\n",
            "Tienda 2 : 25216.24\n",
            "Tienda 3 : 24805.68\n",
            "Tienda 4 : 23459.46\n"
          ]
        }
      ]
    },
    {
      "cell_type": "markdown",
      "source": [
        "# 6. Adicionales"
      ],
      "metadata": {
        "id": "1XIlSemf0Xs8"
      }
    },
    {
      "cell_type": "code",
      "source": [
        "print('Las fechas más concurridas en compras de productos por tienda:\\n')\n",
        "\n",
        "print('Tienda 1')\n",
        "t1_fechas = pd.concat([tienda['Fecha de Compra'].value_counts().head(2),tienda['Fecha de Compra'].value_counts().tail(2)])\n",
        "print(t1_fechas,'\\n')\n",
        "\n",
        "print('Tienda 2')\n",
        "t2_fechas = pd.concat([tienda2['Fecha de Compra'].value_counts().head(2),tienda2['Fecha de Compra'].value_counts().tail(2)])\n",
        "print(t2_fechas,'\\n')\n",
        "\n",
        "print('Tienda 3')\n",
        "t3_fechas = pd.concat([tienda3['Fecha de Compra'].value_counts().head(2),tienda3['Fecha de Compra'].value_counts().tail(2)])\n",
        "print(t3_fechas,'\\n')\n",
        "\n",
        "print('Tienda 4')\n",
        "t4_fechas = pd.concat([tienda4['Fecha de Compra'].value_counts().head(2),tienda4['Fecha de Compra'].value_counts().tail(2)])\n",
        "print(t4_fechas,'\\n')"
      ],
      "metadata": {
        "colab": {
          "base_uri": "https://localhost:8080/"
        },
        "id": "A7U04TItyCFU",
        "outputId": "dc06b8b7-84ea-4e65-8046-5cb08df2873f"
      },
      "execution_count": 124,
      "outputs": [
        {
          "output_type": "stream",
          "name": "stdout",
          "text": [
            "Las fechas más concurridas en compras de productos por tienda:\n",
            "\n",
            "Tienda 1\n",
            "Fecha de Compra\n",
            "15/05/2021    7\n",
            "24/02/2023    6\n",
            "18/04/2022    1\n",
            "05/03/2022    1\n",
            "Name: count, dtype: int64 \n",
            "\n",
            "Tienda 2\n",
            "Fecha de Compra\n",
            "20/12/2021    7\n",
            "11/11/2022    7\n",
            "03/09/2021    1\n",
            "19/12/2020    1\n",
            "Name: count, dtype: int64 \n",
            "\n",
            "Tienda 3\n",
            "Fecha de Compra\n",
            "01/08/2022    8\n",
            "24/12/2021    7\n",
            "01/05/2022    1\n",
            "10/02/2021    1\n",
            "Name: count, dtype: int64 \n",
            "\n",
            "Tienda 4\n",
            "Fecha de Compra\n",
            "13/11/2020    9\n",
            "27/09/2021    7\n",
            "26/12/2020    1\n",
            "30/08/2021    1\n",
            "Name: count, dtype: int64 \n",
            "\n"
          ]
        }
      ]
    },
    {
      "cell_type": "markdown",
      "source": [
        "# 7. Visualizaciones"
      ],
      "metadata": {
        "id": "tb7pKdzanGCQ"
      }
    },
    {
      "cell_type": "code",
      "source": [
        "import matplotlib.pyplot as plt"
      ],
      "metadata": {
        "id": "drDfTbGXwpqR"
      },
      "execution_count": 74,
      "outputs": []
    },
    {
      "cell_type": "code",
      "source": [
        "plt.plot(dic_ingresos.keys(),dic_ingresos.values())\n",
        "plt.xlabel('Tiendas')\n",
        "plt.ylabel('Ingresos')\n",
        "plt.title('Ventas por tienda')\n",
        "plt.show()"
      ],
      "metadata": {
        "colab": {
          "base_uri": "https://localhost:8080/",
          "height": 472
        },
        "id": "DtC0rT8rnKI0",
        "outputId": "534c36c2-41c3-4609-91b0-3506838b8aea"
      },
      "execution_count": 75,
      "outputs": [
        {
          "output_type": "display_data",
          "data": {
            "text/plain": [
              "<Figure size 640x480 with 1 Axes>"
            ],
            "image/png": "[encoded data removed]"
          },
          "metadata": {}
        }
      ]
    },
    {
      "cell_type": "code",
      "source": [
        "print('Al restar los precios con los costos de envío se obtiene la ganancia como tal')\n",
        "\n",
        "tienda['Ganancia'] = tienda['Precio']-tienda['Costo de envío']\n",
        "tienda2['Ganancia'] = tienda2['Precio']-tienda2['Costo de envío']\n",
        "tienda3['Ganancia'] = tienda3['Precio']-tienda3['Costo de envío']\n",
        "tienda4['Ganancia'] = tienda4['Precio']-tienda4['Costo de envío']\n",
        "\n",
        "dic_ganancias = {'Tienda 1':sum(tienda['Ganancia']),\n",
        "               'Tienda 2':sum(tienda2['Ganancia']),\n",
        "               'Tienda 3':sum(tienda3['Ganancia']),\n",
        "               'Tienda 4':sum(tienda4['Ganancia'])}\n",
        "\n",
        "\n",
        "plt.plot(dic_ganancias.keys(),dic_ganancias.values())\n",
        "plt.xlabel('Tiendas')\n",
        "plt.ylabel('Ganancias')\n",
        "plt.title('Ganancias por tienda')\n",
        "plt.show()\n"
      ],
      "metadata": {
        "colab": {
          "base_uri": "https://localhost:8080/",
          "height": 489
        },
        "id": "0g7QNiF9uy5L",
        "outputId": "fc01209f-d6aa-4380-9eb8-dd0ae378118b"
      },
      "execution_count": 78,
      "outputs": [
        {
          "output_type": "stream",
          "name": "stdout",
          "text": [
            "Al restar los precios con los costos de envío se obtiene la ganancia como tal\n"
          ]
        },
        {
          "output_type": "display_data",
          "data": {
            "text/plain": [
              "<Figure size 640x480 with 1 Axes>"
            ],
            "image/png": "[encoded data removed]"
          },
          "metadata": {}
        }
      ]
    },
    {
      "cell_type": "code",
      "source": [
        "x1 = tienda['Calificación'].value_counts()\n",
        "x2 = tienda2['Calificación'].value_counts()\n",
        "x3 = tienda3['Calificación'].value_counts()\n",
        "x4 = tienda4['Calificación'].value_counts()\n",
        "\n",
        "plt.figure(figsize=(8, 6))\n",
        "\n",
        "plt.subplot(2, 2, 1)\n",
        "bars=plt.bar(x1.index, x1.values, color='blue')\n",
        "plt.bar_label(bars, fmt='%d', label_type='edge')\n",
        "plt.title('Gráfico 1')\n",
        "\n",
        "plt.subplot(2, 2, 2)\n",
        "bars2 = plt.bar(x2.index, x2.values, color='blue')\n",
        "plt.bar_label(bars2, fmt='%d', label_type='edge')\n",
        "plt.title('Gráfico 2')\n",
        "\n",
        "plt.subplot(2, 2, 3)\n",
        "bars3=plt.bar(x3.index, x3.values, color='blue')\n",
        "plt.bar_label(bars3, fmt='%d', label_type='edge')\n",
        "plt.title('Gráfico 3')\n",
        "\n",
        "plt.subplot(2, 2, 4)\n",
        "bars4 = plt.bar(x4.index, x4.values, color='blue')\n",
        "plt.bar_label(bars4, fmt='%d', label_type='edge')\n",
        "plt.title('Gráfico 4')\n",
        "\n"
      ],
      "metadata": {
        "colab": {
          "base_uri": "https://localhost:8080/",
          "height": 562
        },
        "id": "uqXb5sod5jw9",
        "outputId": "2b6083f1-a3b2-4192-c99b-6817278fa0ce"
      },
      "execution_count": 118,
      "outputs": [
        {
          "output_type": "execute_result",
          "data": {
            "text/plain": [
              "Text(0.5, 1.0, 'Gráfico 4')"
            ]
          },
          "metadata": {},
          "execution_count": 118
        },
        {
          "output_type": "display_data",
          "data": {
            "text/plain": [
              "<Figure size 800x600 with 4 Axes>"
            ],
            "image/png": "[encoded data removed]"
          },
          "metadata": {}
        }
      ]
    },
    {
      "cell_type": "markdown",
      "source": [
        "# Informe"
      ],
      "metadata": {
        "id": "oDdzG3M2nMA3"
      }
    },
    {
      "cell_type": "markdown",
      "source": [
        "Después de realizar el análisis respectivo con la información proporcionada, se recomienda vender la tienda 4, por las siguientes razones:"
      ],
      "metadata": {
        "id": "dgigut-anQsC"
      }
    },
    {
      "cell_type": "markdown",
      "source": [
        "1. Tiene menores ventas y costos, por lo que sus ganancias son las menores de entre las 4:"
      ],
      "metadata": {
        "id": "LpNunuY79x7I"
      }
    },
    {
      "cell_type": "code",
      "source": [
        "plt.plot(dic_ingresos.keys(),dic_ingresos.values())\n",
        "plt.xlabel('Tiendas')\n",
        "plt.ylabel('Ingresos')\n",
        "plt.title('Ingresos por tienda')\n",
        "plt.show()"
      ],
      "metadata": {
        "colab": {
          "base_uri": "https://localhost:8080/",
          "height": 472
        },
        "id": "ZifZ0NtD-Nm7",
        "outputId": "d6cca06f-8d5a-48f7-a4ea-e4ab3da953e5"
      },
      "execution_count": 122,
      "outputs": [
        {
          "output_type": "display_data",
          "data": {
            "text/plain": [
              "<Figure size 640x480 with 1 Axes>"
            ],
            "image/png": "[encoded data removed]"
          },
          "metadata": {}
        }
      ]
    },
    {
      "cell_type": "markdown",
      "source": [
        "2. Es la tercera tienda con menor calificación de los clientes y solo está a 0.03 de ser la cuarta"
      ],
      "metadata": {
        "id": "8E6gcNdH-U5y"
      }
    },
    {
      "cell_type": "code",
      "source": [
        "plt.plot(dicc_calificacionprom.keys(),dicc_calificacionprom.values())\n",
        "plt.xlabel('Tiendas')\n",
        "plt.ylabel('Calificación')\n",
        "plt.title('Calificaciones por tienda')\n",
        "plt.show()"
      ],
      "metadata": {
        "colab": {
          "base_uri": "https://localhost:8080/",
          "height": 472
        },
        "id": "HKPDWd7a-_oW",
        "outputId": "25158bab-5bd4-4216-f372-490711659d39"
      },
      "execution_count": 123,
      "outputs": [
        {
          "output_type": "display_data",
          "data": {
            "text/plain": [
              "<Figure size 640x480 with 1 Axes>"
            ],
            "image/png": "[encoded data removed]"
          },
          "metadata": {}
        }
      ]
    },
    {
      "cell_type": "markdown",
      "source": [
        "3. La mayor cantidad de ventas se dió en el 2020, a diferencia de las otras tiendas que fueron en años más cercanos (2021 y 2022):"
      ],
      "metadata": {
        "id": "40mITqdLFx_V"
      }
    },
    {
      "cell_type": "code",
      "source": [
        "print('La mayor cantidad de ventas de las tiendas se dio en:')\n",
        "\n",
        "t1_fechasa = tienda['Fecha de Compra'].value_counts().head(1).index[0]\n",
        "print(f'Tienda 1: {t1_fechasa}')\n",
        "\n",
        "t2_fechasa = tienda2['Fecha de Compra'].value_counts().head(1).index[0]\n",
        "print(f'Tienda 2: {t2_fechasa}')\n",
        "\n",
        "t3_fechasa = tienda3['Fecha de Compra'].value_counts().head(1).index[0]\n",
        "print(f'Tienda 3: {t3_fechasa}')\n",
        "\n",
        "t4_fechasa = tienda4['Fecha de Compra'].value_counts().head(1).index[0]\n",
        "print(f'Tienda 4: {t4_fechasa}')"
      ],
      "metadata": {
        "colab": {
          "base_uri": "https://localhost:8080/"
        },
        "id": "5PyfbFP8FmL7",
        "outputId": "d58dfc61-0563-41f4-a16d-4281c8572d20"
      },
      "execution_count": 139,
      "outputs": [
        {
          "output_type": "stream",
          "name": "stdout",
          "text": [
            "La mayor cantidad de ventas de las tiendas se dio en:\n",
            "Tienda 1: 15/05/2021\n",
            "Tienda 2: 20/12/2021\n",
            "Tienda 3: 01/08/2022\n",
            "Tienda 4: 13/11/2020\n"
          ]
        }
      ]
    }
  ]
}